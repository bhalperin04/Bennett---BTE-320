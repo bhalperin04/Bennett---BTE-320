{
  "cells": [
    {
      "cell_type": "markdown",
      "metadata": {
        "id": "view-in-github",
        "colab_type": "text"
      },
      "source": [
        "<a href=\"https://colab.research.google.com/github/bhalperin04/Bennett---BTE-320/blob/main/In_Class_Assignment.ipynb\" target=\"_parent\"><img src=\"https://colab.research.google.com/assets/colab-badge.svg\" alt=\"Open In Colab\"/></a>"
      ]
    },
    {
      "cell_type": "code",
      "execution_count": null,
      "metadata": {
        "id": "AsRsteX62ybo"
      },
      "outputs": [],
      "source": [
        "#Cylinder area calculator\n",
        "radius = int(input(\"Provide radius: \"))\n",
        "height = int(input(\"Provide height: \"))\n",
        "pi = 3.14\n",
        "print(\"Area of Cylinder: \", (radius**2)*height*pi)"
      ]
    },
    {
      "cell_type": "markdown",
      "metadata": {
        "id": "RzZ_7Jh43J4M"
      },
      "source": []
    },
    {
      "cell_type": "code",
      "execution_count": null,
      "metadata": {
        "id": "iIuVcqYW6OoZ"
      },
      "outputs": [],
      "source": [
        "#Cylinder Surface-area calculator\n",
        "pi=3.14\n",
        "radius=float(input('Enter radius: '))\n",
        "height=float(input('Enter height: '))\n",
        "\n",
        "area = (2 * pi * (radius**2)) + (2*pi*radius*height)\n",
        "\n",
        "print(f'Area of cylinder: {area} sq. ft')"
      ]
    },
    {
      "cell_type": "code",
      "execution_count": null,
      "metadata": {
        "colab": {
          "base_uri": "https://localhost:8080/"
        },
        "id": "9sftYZm8TEsb",
        "outputId": "428684cd-4bd1-4b4b-cc6e-cc1bc8699b0c"
      },
      "outputs": [
        {
          "output_type": "stream",
          "name": "stdout",
          "text": [
            "Enter first number: 2\n",
            "Enter second number: 2\n",
            "Enter operator: +\n",
            "4.0\n"
          ]
        }
      ],
      "source": [
        "#Numerical calculator\n",
        "n1 = float(input('Enter first number: '))\n",
        "n2 = float(input('Enter second number: '))\n",
        "op = input('Enter operator: ')\n",
        "\n",
        "if op == '+':\n",
        "  res = n1 + n2\n",
        "elif op == '-':\n",
        "  res = n1 - n2\n",
        "elif op == '*':\n",
        "  res = n1 * n2\n",
        "elif op == '/':\n",
        "  res = n1 / n2\n",
        "elif op == '//':\n",
        "  res = n1 // n2\n",
        "elif op == '**':\n",
        "  res = n1 ** n2\n",
        "elif op == '%':\n",
        "  res = n1 % n2\n",
        "else:\n",
        "  res = 'Invalid operator'\n",
        "\n",
        "print(res)\n"
      ]
    },
    {
      "cell_type": "code",
      "execution_count": null,
      "metadata": {
        "id": "4qCkJS2eULJo",
        "colab": {
          "base_uri": "https://localhost:8080/"
        },
        "outputId": "0bde0d53-2470-4a24-d5ca-e63369e73465"
      },
      "outputs": [
        {
          "output_type": "stream",
          "name": "stdout",
          "text": [
            "1 10.0\n",
            "2 10.0\n",
            "3 12.5\n",
            "4 15.0\n",
            "5 17.5\n",
            "6 20.0\n",
            "7 20.0\n",
            "8 20.0\n"
          ]
        }
      ],
      "source": [
        "#Parking garage\n",
        "for time in range(1,9):\n",
        "  fee = 5 + 2.5 * time\n",
        "  if fee < 10:\n",
        "    fee = 10.0\n",
        "  elif fee > 20:\n",
        "    fee = 20.0\n",
        "  print(time, fee)"
      ]
    },
    {
      "cell_type": "code",
      "source": [
        "#Movie theater\n",
        "print('Ad$\\t', 'Profit')\n",
        "for admoney in range(0,201,25):\n",
        "  revenue = round(20 + 2 * (admoney**.5))*10\n",
        "  costs = 200 + admoney\n",
        "  profit = (revenue- costs)\n",
        "  print(admoney, '\\t', profit)"
      ],
      "metadata": {
        "colab": {
          "base_uri": "https://localhost:8080/"
        },
        "id": "4GbNK8g6nh8C",
        "outputId": "1001429d-72ad-422c-d758-290aa840efca"
      },
      "execution_count": null,
      "outputs": [
        {
          "output_type": "stream",
          "name": "stdout",
          "text": [
            "Ad$\t Profit\n",
            "0 \t 0\n",
            "25 \t 75\n",
            "50 \t 90\n",
            "75 \t 95\n",
            "100 \t 100\n",
            "125 \t 95\n",
            "150 \t 90\n",
            "175 \t 85\n",
            "200 \t 80\n"
          ]
        }
      ]
    },
    {
      "cell_type": "code",
      "source": [
        "#Rock-Paper-Scissors\n",
        "import random\n",
        "\n",
        "play = input('Do you want to play the game (Yes/No): ').capitalize()\n",
        "\n",
        "while play == 'Yes':\n",
        "  p1 = input('Player 1 - Choose between Rock/Paper/Scissors: ').capitalize()\n",
        "  p2 = random.choice(['Rock', 'Paper', 'Scissors']).capitalize()\n",
        "\n",
        "  print(f'Player chose {p1}; Computer chose {p2}')\n",
        "\n",
        "  if p1 == p2:\n",
        "    print('Draw')\n",
        "  elif ((p1 == 'Rock' and p2 == 'Scissors') or\n",
        "        (p1 == 'Scissors' and p2 == 'Paper') or\n",
        "        (p1 == 'Paper' and p2 == 'Rock')):\n",
        "    print('Player 1 wins')\n",
        "  else:\n",
        "    print('Player 2 wins')\n",
        "\n",
        "  play = input('Do you want to play the game (yes/no): ').capitalize()\n",
        "print('Good day...')"
      ],
      "metadata": {
        "id": "EZXbg3BDcyN-"
      },
      "execution_count": null,
      "outputs": []
    },
    {
      "cell_type": "code",
      "source": [
        "#Append items to list iteratively\n",
        "L = []\n",
        "\n",
        "while True:\n",
        "  num = float(input('Give a number: '))\n",
        "  if num == 0.0:\n",
        "    break\n",
        "  L.append(num)\n",
        "L.sort(reverse=True)\n",
        "L"
      ],
      "metadata": {
        "id": "1ndd1EBNgJHL"
      },
      "execution_count": null,
      "outputs": []
    },
    {
      "cell_type": "code",
      "source": [
        "#Dynamic dictionary of number:month pairs\n",
        "months= {}\n",
        "\n",
        "names= ['jan', 'feb', 'mar', 'apr', 'may', 'jun', 'jul', 'aug', 'sep', 'oct', 'nov', 'dec']\n",
        "numbers=[1,2,3,4,5,6,7,8,9,10,11,12]\n",
        "\n",
        "for num in numbers:\n",
        "  months[num]=names[num-1]\n",
        "months"
      ],
      "metadata": {
        "id": "MtPaTNOfiC_p",
        "colab": {
          "base_uri": "https://localhost:8080/"
        },
        "outputId": "95bd888e-f0a2-4b97-a212-6a0cf0229b54"
      },
      "execution_count": null,
      "outputs": [
        {
          "output_type": "execute_result",
          "data": {
            "text/plain": [
              "{1: 'jan',\n",
              " 2: 'feb',\n",
              " 3: 'mar',\n",
              " 4: 'apr',\n",
              " 5: 'may',\n",
              " 6: 'jun',\n",
              " 7: 'jul',\n",
              " 8: 'aug',\n",
              " 9: 'sep',\n",
              " 10: 'oct',\n",
              " 11: 'nov',\n",
              " 12: 'dec'}"
            ]
          },
          "metadata": {},
          "execution_count": 2
        }
      ]
    },
    {
      "cell_type": "code",
      "source": [
        "#Dynamic dictionary; 5 distinct key:value pairs\n",
        "counts={}\n",
        "\n",
        "while len(counts)<5:\n",
        "  key = input('given a string:')\n",
        "\n",
        "  if key not in counts:\n",
        "    counts[key]=1\n",
        "  else:\n",
        "    counts[key]+=1\n",
        "print(counts)"
      ],
      "metadata": {
        "id": "vVp-wiEya881"
      },
      "execution_count": null,
      "outputs": []
    },
    {
      "cell_type": "code",
      "source": [
        "#Parking garage: calcFee function\n",
        "def calcFee(hours):\n",
        "  fee = 5 + 2.5 * hours\n",
        "  if fee < 10.0:\n",
        "      fee = 10.0\n",
        "  elif fee > 20.0:\n",
        "      fee = 20.0\n",
        "  print(f'Fee: {fee}$')\n",
        "\n",
        "def main():\n",
        "  numHours = int(input('Enter number of hours: '))\n",
        "  calcFee(numHours)\n",
        "\n",
        "main()"
      ],
      "metadata": {
        "id": "o_4_7ST-1aSb"
      },
      "execution_count": null,
      "outputs": []
    },
    {
      "cell_type": "code",
      "source": [
        "#Recursive function: string reversal\n",
        "def reverse_string(s):\n",
        "  if len(s) <= 1:\n",
        "    return s\n",
        "  else:\n",
        "    return reverse_string(s[1:]) + s[0]\n",
        "\n",
        "string = input(\"Enter a string: \")\n",
        "print(reverse_string(string))"
      ],
      "metadata": {
        "id": "Ro4MGeArsgYZ"
      },
      "execution_count": null,
      "outputs": []
    },
    {
      "cell_type": "code",
      "source": [
        "def calcFee(hours):\n",
        "  fee = 5 + 2.5 * hours\n",
        "  if fee < 10.0:\n",
        "      fee = 10.0\n",
        "  elif fee > 20.0:\n",
        "      fee = 20.0\n",
        "  print(f'Fee: {fee}$')\n",
        "\n",
        "def main():\n",
        "  try:\n",
        "    numHours = int(input('Enter number of hours: '))\n",
        "    calcFee(numHours)\n",
        "  except:\n",
        "    print('Cannot be casted as int()')\n",
        "\n",
        "if __name__ == '__main__':\n",
        "  main()"
      ],
      "metadata": {
        "colab": {
          "base_uri": "https://localhost:8080/"
        },
        "id": "BDJkyTeugmmR",
        "outputId": "3eafdab8-4553-44ac-934a-c11b6a96c9af"
      },
      "execution_count": null,
      "outputs": [
        {
          "output_type": "stream",
          "name": "stdout",
          "text": [
            "Cannot be casted as int()\n"
          ]
        }
      ]
    },
    {
      "cell_type": "markdown",
      "source": [],
      "metadata": {
        "id": "fAhLRv0cxm3k"
      }
    },
    {
      "cell_type": "code",
      "source": [
        "class Greeting:\n",
        "  def __init__(self, first, last):\n",
        "    self.first = first\n",
        "    self.last = last\n",
        "\n",
        "  def display(self, formal = False):\n",
        "    if formal:\n",
        "      print(f\"Hi {self.first} {self.last}\")\n",
        "    else:\n",
        "      print(f\"Hello {self.first}\")\n",
        "\n",
        "  def __str__(self):\n",
        "    return f\"{self.first}, {self.last}\"\n",
        "\n",
        "greeting = Greeting('Donald', 'Becker')\n",
        "greeting.display(formal = True)\n",
        "print(greeting)"
      ],
      "metadata": {
        "colab": {
          "base_uri": "https://localhost:8080/"
        },
        "id": "XQDojbSljZMw",
        "outputId": "357c473f-0bc0-42f2-eb4f-b57827504552"
      },
      "execution_count": null,
      "outputs": [
        {
          "output_type": "stream",
          "name": "stdout",
          "text": [
            "Hi Donald Becker\n",
            "Donald, Becker\n"
          ]
        }
      ]
    },
    {
      "cell_type": "code",
      "source": [
        "import math\n",
        "\n",
        "class Point:\n",
        "  def __init__(self, x, y):\n",
        "    self.x = x\n",
        "    self.y = y\n",
        "\n",
        "def distance (self, other):\n",
        "  return math.sqrt((self.x - other.x) ** 2 + (self.y - other.y) ** 2)\n",
        "\n",
        "  #x_diff = a.x - b.x\n",
        "  #y_diff = a.y - b.y\n",
        "  #d = math.sqrt(x_diff**2 + y_diff**2)\n",
        "  #print(f\"Distance: {d}\")\n",
        "\n",
        "#a = Point(0,0)\n",
        "#b = Point(3,4)\n",
        "#distance(a,b)"
      ],
      "metadata": {
        "id": "k_NemeTbjAdd"
      },
      "execution_count": null,
      "outputs": []
    },
    {
      "cell_type": "code",
      "source": [
        "class Rectangle\n",
        "  def __init__(self, corner1, corner2, corner3, corner4):\n",
        "    self.corner1 = point1\n",
        "    self.corner2 = point2\n",
        "    self.corner3 = point3\n",
        "    self.corner4 = point4\n",
        "\n",
        "  def display(self"
      ],
      "metadata": {
        "id": "2jrzL07Xuoft",
        "colab": {
          "base_uri": "https://localhost:8080/",
          "height": 108
        },
        "outputId": "e8b09d1d-e19e-4509-c3a1-5fc0d6dce7ff"
      },
      "execution_count": null,
      "outputs": [
        {
          "output_type": "error",
          "ename": "SyntaxError",
          "evalue": "expected ':' (<ipython-input-1-42fc4508cde2>, line 1)",
          "traceback": [
            "\u001b[0;36m  File \u001b[0;32m\"<ipython-input-1-42fc4508cde2>\"\u001b[0;36m, line \u001b[0;32m1\u001b[0m\n\u001b[0;31m    class Rectangle\u001b[0m\n\u001b[0m                   ^\u001b[0m\n\u001b[0;31mSyntaxError\u001b[0m\u001b[0;31m:\u001b[0m expected ':'\n"
          ]
        }
      ]
    },
    {
      "cell_type": "code",
      "source": [
        "#Parking garage/1st question of Assignment II using exception handling\n",
        "def getValues(n):\n",
        "  assert n >= 3, \"...\"\n",
        "  L = []\n",
        "  for i in range(n):\n",
        "    weight = float(input(\"Enter weight: \"))\n",
        "    L.append(weight)\n",
        "  r1eturn L\n",
        "\n",
        "def calcAverage(alist):\n",
        "  try:\n",
        "    print(f'The average weight is: {sum(alist)/len(alist[2:])}')\n",
        "  except ZeroDivisionError:\n",
        "    print('List alist is empty!')\n",
        "\n",
        "if __name__ == '__main__':\n",
        "  try:\n",
        "    n = int(input(\"Enter size of list: \"))\n",
        "    alist = getValues(n)\n",
        "    calcAverage(alist)\n",
        "  except ValueError:\n",
        "    print('Cannot be casted as int()')\n"
      ],
      "metadata": {
        "colab": {
          "base_uri": "https://localhost:8080/"
        },
        "id": "lvFCzWeK55eH",
        "outputId": "0ef88c31-07bb-4e19-cc4b-8ae7dac0d4f0"
      },
      "execution_count": null,
      "outputs": [
        {
          "output_type": "stream",
          "name": "stdout",
          "text": [
            "Enter size of list: 10\n",
            "Enter weight: 10\n",
            "Enter weight: 10\n",
            "Enter weight: 01\n",
            "Enter weight: 010\n",
            "Enter weight: 11\n",
            "Enter weight: 1\n",
            "Enter weight: 1\n",
            "Enter weight: 1\n",
            "Enter weight: 1\n",
            "Enter weight: 1\n",
            "The average weight is: 5.875\n"
          ]
        }
      ]
    },
    {
      "cell_type": "code",
      "source": [
        "#Greeting class\n",
        "class Greeting:\n",
        "  def __init__(self, first, last):\n",
        "    self.first = first\n",
        "    self.last = last\n",
        "\n",
        "  def display(self, formal = False):\n",
        "    if formal:\n",
        "      print(f\"Hello {self.first} {self.last}\")\n",
        "    else:\n",
        "      print(f\"Hi {self.first}\")\n",
        "\n",
        "  def __str__(self):\n",
        "    return str(self.first) + \", \" + str(self.last)\n",
        "    return \"{}, {}\".format(self.first, self.last)\n",
        "    return f\"{self.first}, {self.last}\"\n",
        "\n",
        "greeting = Greeting('Donald', 'Becker')\n",
        "s = Greeting('Bob', 'Dylan')\n",
        "greeting.display(formal = True)\n",
        "print(greeting)\n",
        "print(s)"
      ],
      "metadata": {
        "colab": {
          "base_uri": "https://localhost:8080/"
        },
        "id": "urbjKbr-57Tg",
        "outputId": "82c55327-d84b-49d1-cae7-199813579aac"
      },
      "execution_count": null,
      "outputs": [
        {
          "output_type": "stream",
          "name": "stdout",
          "text": [
            "Hello Donald Becker\n",
            "Donald, Becker\n",
            "Bob, Dylan\n"
          ]
        }
      ]
    },
    {
      "cell_type": "code",
      "source": [
        "#Student class\n",
        "class Student:\n",
        "  def __init__(self, name, number):\n",
        "    self.name = name\n",
        "    self.__number = number\n",
        "    self.__courses = []\n",
        "\n",
        "  def __len__(self):\n",
        "    return len(self.__courses)\n",
        "\n",
        "  def enroll(self, course):\n",
        "    if course in self.__courses:\n",
        "      print(f'You have already enrolled in {course}')\n",
        "    else:\n",
        "      self.__courses.append(course)\n",
        "\n",
        "    def get_courses(self):\n",
        "      return self.__courses\n",
        "\n",
        "    def get_number(self):\n",
        "      return self.__number\n",
        "\n",
        "    def set_number(self, newnumber):\n",
        "      self.__number = newnumber\n",
        "\n",
        "s1 = Student ('Bob', 100)\n",
        "s2 = Student ('Alice', 101)"
      ],
      "metadata": {
        "id": "0ciCD5kE58PY"
      },
      "execution_count": null,
      "outputs": []
    },
    {
      "cell_type": "code",
      "source": [
        "s1.name"
      ],
      "metadata": {
        "colab": {
          "base_uri": "https://localhost:8080/",
          "height": 144
        },
        "id": "L9TYD_kc8E1u",
        "outputId": "419ddf9c-c19e-4ae4-8e64-ddb01927cdc0"
      },
      "execution_count": 1,
      "outputs": [
        {
          "output_type": "error",
          "ename": "NameError",
          "evalue": "name 's1' is not defined",
          "traceback": [
            "\u001b[0;31m---------------------------------------------------------------------------\u001b[0m",
            "\u001b[0;31mNameError\u001b[0m                                 Traceback (most recent call last)",
            "\u001b[0;32m<ipython-input-1-bfa1764dcbdc>\u001b[0m in \u001b[0;36m<cell line: 0>\u001b[0;34m()\u001b[0m\n\u001b[0;32m----> 1\u001b[0;31m \u001b[0ms1\u001b[0m\u001b[0;34m.\u001b[0m\u001b[0mname\u001b[0m\u001b[0;34m\u001b[0m\u001b[0;34m\u001b[0m\u001b[0m\n\u001b[0m",
            "\u001b[0;31mNameError\u001b[0m: name 's1' is not defined"
          ]
        }
      ]
    },
    {
      "cell_type": "code",
      "source": [
        "#Classes Point and Rectangle\n",
        "\n",
        "from re import X\n",
        "from re import X\n",
        "import math\n",
        "\n",
        "class Point:\n",
        "  def __init__(self, x, y):\n",
        "    self.x = x\n",
        "    self.y = y\n",
        "\n",
        "  def distance(self, other):\n",
        "    x_diff = a.x - b.x\n",
        "    y_diff = a.y - b.y\n",
        "    d = math.sqrt(x_diff**2 + y_diff**2)\n",
        "    print(f\"Distance: {d}\")\n",
        "\n",
        "a = Point(0,0)\n",
        "b = Point(3,4)\n",
        "d = a.distance(b)"
      ],
      "metadata": {
        "colab": {
          "base_uri": "https://localhost:8080/"
        },
        "id": "F1MfoTkAYTPg",
        "outputId": "0a556850-2ac4-4b8e-dfdf-efa4575e25d2"
      },
      "execution_count": 12,
      "outputs": [
        {
          "output_type": "stream",
          "name": "stdout",
          "text": [
            "Distance: 5.0\n"
          ]
        }
      ]
    },
    {
      "cell_type": "code",
      "source": [
        "#Classes Point and Rectangle\n",
        "\n",
        "class Rectangle:\n",
        "  def __init__(self):\n",
        "    self.c1 = Point(0,0)\n",
        "    self.c2 = Point(0,2)\n",
        "    self.c3 = Point(2,0)\n",
        "    self.c4 = Point(2,2)\n",
        "    self.width = self.calculate_width()\n",
        "    self.height = self.calculate_height()\n",
        "\n",
        "  def calculate_width(self):\n",
        "    return self.c1.distance(self.c2)\n",
        "\n",
        "  def calculate_height(self):\n",
        "    return self.c3.distance(self.c4)\n",
        "\n",
        "  def area(self):\n",
        "    return self.width * self.height\n",
        "\n",
        "square = Rectangle()\n",
        "square.area()"
      ],
      "metadata": {
        "colab": {
          "base_uri": "https://localhost:8080/",
          "height": 341
        },
        "id": "bZ_FqQyIrdyL",
        "outputId": "041afff4-fd54-45fb-84b7-86cbf8509c43"
      },
      "execution_count": 14,
      "outputs": [
        {
          "output_type": "stream",
          "name": "stdout",
          "text": [
            "Distance: 5.0\n",
            "Distance: 5.0\n"
          ]
        },
        {
          "output_type": "error",
          "ename": "TypeError",
          "evalue": "unsupported operand type(s) for *: 'NoneType' and 'NoneType'",
          "traceback": [
            "\u001b[0;31m---------------------------------------------------------------------------\u001b[0m",
            "\u001b[0;31mTypeError\u001b[0m                                 Traceback (most recent call last)",
            "\u001b[0;32m<ipython-input-14-3a37543361b6>\u001b[0m in \u001b[0;36m<cell line: 0>\u001b[0;34m()\u001b[0m\n\u001b[1;32m     18\u001b[0m \u001b[0;34m\u001b[0m\u001b[0m\n\u001b[1;32m     19\u001b[0m \u001b[0msquare\u001b[0m \u001b[0;34m=\u001b[0m \u001b[0mRectangle\u001b[0m\u001b[0;34m(\u001b[0m\u001b[0;34m)\u001b[0m\u001b[0;34m\u001b[0m\u001b[0;34m\u001b[0m\u001b[0m\n\u001b[0;32m---> 20\u001b[0;31m \u001b[0msquare\u001b[0m\u001b[0;34m.\u001b[0m\u001b[0marea\u001b[0m\u001b[0;34m(\u001b[0m\u001b[0;34m)\u001b[0m\u001b[0;34m\u001b[0m\u001b[0;34m\u001b[0m\u001b[0m\n\u001b[0m",
            "\u001b[0;32m<ipython-input-14-3a37543361b6>\u001b[0m in \u001b[0;36marea\u001b[0;34m(self)\u001b[0m\n\u001b[1;32m     15\u001b[0m \u001b[0;34m\u001b[0m\u001b[0m\n\u001b[1;32m     16\u001b[0m   \u001b[0;32mdef\u001b[0m \u001b[0marea\u001b[0m\u001b[0;34m(\u001b[0m\u001b[0mself\u001b[0m\u001b[0;34m)\u001b[0m\u001b[0;34m:\u001b[0m\u001b[0;34m\u001b[0m\u001b[0;34m\u001b[0m\u001b[0m\n\u001b[0;32m---> 17\u001b[0;31m     \u001b[0;32mreturn\u001b[0m \u001b[0mself\u001b[0m\u001b[0;34m.\u001b[0m\u001b[0mwidth\u001b[0m \u001b[0;34m*\u001b[0m \u001b[0mself\u001b[0m\u001b[0;34m.\u001b[0m\u001b[0mheight\u001b[0m\u001b[0;34m\u001b[0m\u001b[0;34m\u001b[0m\u001b[0m\n\u001b[0m\u001b[1;32m     18\u001b[0m \u001b[0;34m\u001b[0m\u001b[0m\n\u001b[1;32m     19\u001b[0m \u001b[0msquare\u001b[0m \u001b[0;34m=\u001b[0m \u001b[0mRectangle\u001b[0m\u001b[0;34m(\u001b[0m\u001b[0;34m)\u001b[0m\u001b[0;34m\u001b[0m\u001b[0;34m\u001b[0m\u001b[0m\n",
            "\u001b[0;31mTypeError\u001b[0m: unsupported operand type(s) for *: 'NoneType' and 'NoneType'"
          ]
        }
      ]
    }
  ],
  "metadata": {
    "colab": {
      "provenance": [],
      "authorship_tag": "ABX9TyP1o0bM4pgPBbmxZd+pTtHJ",
      "include_colab_link": true
    },
    "kernelspec": {
      "display_name": "Python 3",
      "name": "python3"
    },
    "language_info": {
      "name": "python"
    }
  },
  "nbformat": 4,
  "nbformat_minor": 0
}