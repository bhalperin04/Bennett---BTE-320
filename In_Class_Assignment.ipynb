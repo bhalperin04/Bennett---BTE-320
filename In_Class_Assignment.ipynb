{
  "nbformat": 4,
  "nbformat_minor": 0,
  "metadata": {
    "colab": {
      "provenance": [],
      "authorship_tag": "ABX9TyMOZk2+YBv2yyXg7Xgy//8u",
      "include_colab_link": true
    },
    "kernelspec": {
      "name": "python3",
      "display_name": "Python 3"
    },
    "language_info": {
      "name": "python"
    }
  },
  "cells": [
    {
      "cell_type": "markdown",
      "metadata": {
        "id": "view-in-github",
        "colab_type": "text"
      },
      "source": [
        "<a href=\"https://colab.research.google.com/github/bhalperin04/Bennett---BTE-320/blob/main/In_Class_Assignment.ipynb\" target=\"_parent\"><img src=\"https://colab.research.google.com/assets/colab-badge.svg\" alt=\"Open In Colab\"/></a>"
      ]
    },
    {
      "cell_type": "code",
      "execution_count": null,
      "metadata": {
        "id": "AsRsteX62ybo"
      },
      "outputs": [],
      "source": [
        "radius = int(input(\"Provide radius: \"))\n",
        "height = int(input(\"Provide height: \"))\n",
        "pi = 3.14\n",
        "print(\"Area of Cylinder: \", (radius**2)*height*pi)"
      ]
    },
    {
      "cell_type": "markdown",
      "source": [],
      "metadata": {
        "id": "RzZ_7Jh43J4M"
      }
    },
    {
      "cell_type": "code",
      "source": [
        "pi=3.14\n",
        "radius=float(input('Enter radius: '))\n",
        "height=float(input('Enter height: '))\n",
        "\n",
        "area = (2 * pi * (radius**2)) + (2*pi*radius*height)\n",
        "print=(f'Area of cylinder: {area} sq. ft')"
      ],
      "metadata": {
        "colab": {
          "base_uri": "https://localhost:8080/"
        },
        "id": "iIuVcqYW6OoZ",
        "outputId": "120cdf2b-b0a5-4f85-fe8c-04ea8f86ccf0"
      },
      "execution_count": null,
      "outputs": [
        {
          "name": "stdout",
          "output_type": "stream",
          "text": [
            "Enter radius: 1\n",
            "Enter height: 1\n"
          ]
        }
      ]
    }
  ]
}